{
  "nbformat": 4,
  "nbformat_minor": 0,
  "metadata": {
    "colab": {
      "provenance": []
    },
    "kernelspec": {
      "name": "python3",
      "display_name": "Python 3"
    },
    "language_info": {
      "name": "python"
    }
  },
  "cells": [
    {
      "cell_type": "markdown",
      "source": [
        "#📈 Egy Stock Market Prediction\n",
        "This notebook predicts weekly stock performance (Perf.W) using financial and technical indicators. It applies both regression (to estimate Perf.W) and classification (to predict if a stock will go up or down)"
      ],
      "metadata": {
        "id": "lwy-F-JQjeaK"
      }
    },
    {
      "cell_type": "markdown",
      "source": [
        "# 🔹 Part 1: Import and Load Data"
      ],
      "metadata": {
        "id": "elaANzRYj6-T"
      }
    },
    {
      "cell_type": "code",
      "execution_count": 24,
      "metadata": {
        "id": "pay-Mek2jWYD"
      },
      "outputs": [],
      "source": [
        "import pandas as pd\n",
        "import numpy as np\n",
        "import seaborn as sns\n",
        "from sklearn.model_selection import train_test_split\n",
        "from sklearn.preprocessing import StandardScaler\n",
        "from sklearn.ensemble import RandomForestRegressor, RandomForestClassifier\n",
        "from sklearn.svm import SVR\n",
        "from sklearn.metrics import mean_squared_error, r2_score, accuracy_score, classification_report\n",
        "import matplotlib.pyplot as plt\n",
        "from sklearn.model_selection import StratifiedKFold\n",
        "from sklearn.ensemble import RandomForestClassifier\n",
        "from sklearn.metrics import accuracy_score, classification_report"
      ]
    },
    {
      "cell_type": "code",
      "source": [
        "df = pd.read_csv('/content/df_assets (3).csv')"
      ],
      "metadata": {
        "id": "UMFmLYQJjq7r"
      },
      "execution_count": 81,
      "outputs": []
    },
    {
      "cell_type": "markdown",
      "source": [
        "# 🔹 Part 2: Explore and Clean Data"
      ],
      "metadata": {
        "id": "3CSoPdkPkD_H"
      }
    },
    {
      "cell_type": "code",
      "source": [
        "print(\"Shape:\", df.shape)\n",
        "print(df.isnull().sum().sort_values(ascending=False))\n"
      ],
      "metadata": {
        "colab": {
          "base_uri": "https://localhost:8080/"
        },
        "id": "wSnm1-T9j1K1",
        "outputId": "6047bbde-0c97-4b18-d857-ec5dd809295e"
      },
      "execution_count": 3,
      "outputs": [
        {
          "output_type": "stream",
          "name": "stdout",
          "text": [
            "Shape: (251, 49)\n",
            "price_earnings_growth_ttm                    214\n",
            "price_free_cash_flow_ttm                     206\n",
            "sell_gen_admin_exp_other_ratio_ttm           198\n",
            "price_earnings_ttm                           186\n",
            "gross_margin_ttm                             184\n",
            "free_cash_flow_margin_ttm                    177\n",
            "price_sales_current                          175\n",
            "return_on_equity_fq                          174\n",
            "return_on_assets_fq                          174\n",
            "cash_f_operating_activities_ttm              172\n",
            "cash_f_investing_activities_ttm              172\n",
            "cash_f_financing_activities_ttm              172\n",
            "operating_margin_ttm                         172\n",
            "total_revenue_ttm                            170\n",
            "cash_n_short_term_invest_to_total_debt_fq    139\n",
            "quick_ratio_fq                               135\n",
            "current_ratio_fq                             120\n",
            "price_to_cash_ratio                          101\n",
            "price_book_fq                                 93\n",
            "debt_to_equity_fq                             92\n",
            "total_debt_fq                                 85\n",
            "net_debt_fq                                   85\n",
            "total_equity_fq                               83\n",
            "total_assets_fq                               83\n",
            "CCI20                                         13\n",
            "MACD.signal                                   13\n",
            "Stoch.D                                       13\n",
            "MACD.macd                                     13\n",
            "AO                                            13\n",
            "relative_volume_10d_calc                      12\n",
            "Stoch.K                                       12\n",
            "RSI                                           12\n",
            "Mom                                           11\n",
            "sector                                         9\n",
            "Perf.3M                                        0\n",
            "Perf.6M                                        0\n",
            "Perf.YTD                                       0\n",
            "Perf.1M                                        0\n",
            "close                                          0\n",
            "change                                         0\n",
            "Perf.W                                         0\n",
            "high                                           0\n",
            "open                                           0\n",
            "description                                    0\n",
            "ticker                                         0\n",
            "low                                            0\n",
            "Volatility.W                                   0\n",
            "Volatility.M                                   0\n",
            "volume                                         0\n",
            "dtype: int64\n"
          ]
        }
      ]
    },
    {
      "cell_type": "code",
      "source": [
        "# Drop the columns that has more than 80 missing value\n",
        "columns_to_drop = [\n",
        "    'price_earnings_growth_ttm',\n",
        "    'price_free_cash_flow_ttm',\n",
        "    'sell_gen_admin_exp_other_ratio_ttm',\n",
        "    'price_earnings_ttm',\n",
        "    'gross_margin_ttm',\n",
        "    'free_cash_flow_margin_ttm',\n",
        "    'price_sales_current',\n",
        "    'return_on_equity_fq',\n",
        "    'return_on_assets_fq',\n",
        "    'cash_f_operating_activities_ttm',\n",
        "    'cash_f_investing_activities_ttm',\n",
        "    'cash_f_financing_activities_ttm',\n",
        "    'operating_margin_ttm',\n",
        "    'total_revenue_ttm',\n",
        "    'cash_n_short_term_invest_to_total_debt_fq',\n",
        "    'quick_ratio_fq',\n",
        "    'current_ratio_fq',\n",
        "    'price_to_cash_ratio',\n",
        "    'price_book_fq',\n",
        "    'debt_to_equity_fq',\n",
        "    'total_debt_fq',\n",
        "    'net_debt_fq',\n",
        "    'total_equity_fq',\n",
        "    'total_assets_fq'\n",
        "]\n",
        "\n",
        "df_cleaned = df.drop(columns=columns_to_drop)\n",
        "df_cleaned.shape[1]"
      ],
      "metadata": {
        "colab": {
          "base_uri": "https://localhost:8080/"
        },
        "id": "MIm6rdDWkOvl",
        "outputId": "c4f764c6-15e4-498e-eccb-1cb49a3a5f8e"
      },
      "execution_count": 4,
      "outputs": [
        {
          "output_type": "execute_result",
          "data": {
            "text/plain": [
              "25"
            ]
          },
          "metadata": {},
          "execution_count": 4
        }
      ]
    },
    {
      "cell_type": "code",
      "source": [
        "import matplotlib.pyplot as plt\n",
        "import seaborn as sns\n",
        "correlations = df.corr(numeric_only=True)['Perf.W'].sort_values(ascending=False)\n",
        "\n",
        "# Display correlation heatmap\n",
        "plt.figure(figsize=(12, 8))\n",
        "sns.heatmap(df.corr(numeric_only=True)[['Perf.W']].sort_values(by='Perf.W', ascending=False), annot=True, cmap='coolwarm')\n",
        "plt.title(\"Correlation of Features with Perf.W (Next Week's Performance)\")\n",
        "plt.tight_layout()\n",
        "plt.show()\n"
      ],
      "metadata": {
        "colab": {
          "base_uri": "https://localhost:8080/",
          "height": 1000
        },
        "id": "KFUPooFSoNVX",
        "outputId": "daf4febf-181a-485f-bad8-d54e386b256b"
      },
      "execution_count": 42,
      "outputs": [
        {
          "output_type": "display_data",
          "data": {
            "text/plain": [
              "<Figure size 1200x800 with 2 Axes>"
            ],
            "image/png": "[encoded data removed]"
          },
          "metadata": {}
        }
      ]
    },
    {
      "cell_type": "code",
      "source": [
        "cols_to_fill = ['CCI20', 'MACD.signal', 'Stoch.D', 'MACD.macd', 'AO', 'relative_volume_10d_calc', 'Stoch.K', 'RSI', 'Mom']\n",
        "df_cleaned[cols_to_fill] = df_cleaned[cols_to_fill].fillna(df_cleaned[cols_to_fill].mean())\n"
      ],
      "metadata": {
        "id": "bt7bxNKSkWKe"
      },
      "execution_count": 5,
      "outputs": []
    },
    {
      "cell_type": "markdown",
      "source": [
        "# 🔹 Part 3: Feature & Target Selection"
      ],
      "metadata": {
        "id": "IEn_2GZ5kX72"
      }
    },
    {
      "cell_type": "code",
      "source": [
        "X = df_cleaned.drop(columns=['Perf.W', 'ticker', 'description', 'sector'])\n",
        "y = df_cleaned['Perf.W']\n"
      ],
      "metadata": {
        "id": "RmAhVqk6kSlM"
      },
      "execution_count": 6,
      "outputs": []
    },
    {
      "cell_type": "code",
      "source": [
        "split_index = int(len(df_cleaned) * 0.8)\n",
        "X_train = X.iloc[:split_index]\n",
        "X_test = X.iloc[split_index:]\n",
        "y_train = y.iloc[:split_index]\n",
        "y_test = y.iloc[split_index:]\n"
      ],
      "metadata": {
        "id": "nTdumXqXkkYG"
      },
      "execution_count": 7,
      "outputs": []
    },
    {
      "cell_type": "code",
      "source": [
        "scaler = StandardScaler()\n",
        "X_train = scaler.fit_transform(X_train)\n",
        "X_test = scaler.transform(X_test)\n"
      ],
      "metadata": {
        "id": "nf3Ngwdokmp0"
      },
      "execution_count": 8,
      "outputs": []
    },
    {
      "cell_type": "markdown",
      "source": [
        "# 🔹 Part 4: 🔢 Random Forest Regression"
      ],
      "metadata": {
        "id": "YtxXBBvYkouU"
      }
    },
    {
      "cell_type": "code",
      "source": [
        "model = RandomForestRegressor(random_state=42)\n",
        "model.fit(X_train, y_train)\n",
        "\n",
        "y_pred = model.predict(X_test)\n",
        "\n",
        "\n",
        "mse = mean_squared_error(y_test, y_pred)\n",
        "r2 = r2_score(y_test, y_pred)\n",
        "\n",
        "print(\"Random Forest Evaluation:\")\n",
        "print(\"Mean Squared Error:\", mse)\n",
        "print(\"R² Score:\", r2)\n"
      ],
      "metadata": {
        "colab": {
          "base_uri": "https://localhost:8080/"
        },
        "id": "AcGn496nkuft",
        "outputId": "cabf38e1-c516-42f3-bcab-213f31422a66"
      },
      "execution_count": 9,
      "outputs": [
        {
          "output_type": "stream",
          "name": "stdout",
          "text": [
            "Random Forest Evaluation:\n",
            "Mean Squared Error: 32.586414091939474\n",
            "R² Score: -0.39588128815355184\n"
          ]
        }
      ]
    },
    {
      "cell_type": "code",
      "source": [
        "#✅ Optional: Predict on the Entire Dataset\n",
        "tickers_all = df_cleaned['ticker']\n",
        "\n",
        "predictions_with_tickers = pd.DataFrame({\n",
        "    'Ticker': tickers_all,\n",
        "    'Predicted_Perf.W': y_pred_all\n",
        "})\n",
        "print(predictions_with_tickers)"
      ],
      "metadata": {
        "colab": {
          "base_uri": "https://localhost:8080/"
        },
        "id": "kj9fCVyrlpru",
        "outputId": "71f6daeb-032f-4ae9-f5c9-23cab512f43b"
      },
      "execution_count": 43,
      "outputs": [
        {
          "output_type": "stream",
          "name": "stdout",
          "text": [
            "               Ticker  Predicted_Perf.W\n",
            "0            EGX:EGTS        -11.811624\n",
            "1            EGX:JUFO         -1.470988\n",
            "2            EGX:TMGH         -0.150640\n",
            "3            EGX:COMI          1.637972\n",
            "4            EGX:CRST         24.746899\n",
            "..                ...               ...\n",
            "246          EGX:PHTV          0.179451\n",
            "247          EGX:GGRN         -2.184779\n",
            "248          EGX:FERC         -0.710666\n",
            "249  EGX:EGS370O1C013         -0.790685\n",
            "250          EGX:MKIT         12.838118\n",
            "\n",
            "[251 rows x 2 columns]\n"
          ]
        }
      ]
    },
    {
      "cell_type": "markdown",
      "source": [
        "# Part 5: 🔢 SVM Regression Model"
      ],
      "metadata": {
        "id": "P777FRiDlCCB"
      }
    },
    {
      "cell_type": "code",
      "source": [
        "svm_model = SVR()\n",
        "svm_model.fit(X_train, y_train)\n",
        "\n",
        "y_pred_svm = svm_model.predict(X_test)\n",
        "\n",
        "from sklearn.metrics import mean_squared_error, r2_score\n",
        "\n",
        "mse_svm = mean_squared_error(y_test, y_pred_svm)\n",
        "r2_svm = r2_score(y_test, y_pred_svm)\n",
        "\n",
        "print(\"SVM Evaluation:\")\n",
        "print(\"Mean Squared Error:\", mse_svm)\n",
        "print(\"R² Score:\", r2_svm)\n",
        "\n"
      ],
      "metadata": {
        "colab": {
          "base_uri": "https://localhost:8080/"
        },
        "id": "vCdWSypGlGkS",
        "outputId": "74fc47d3-ad20-4452-a41f-890a418e6992"
      },
      "execution_count": 13,
      "outputs": [
        {
          "output_type": "stream",
          "name": "stdout",
          "text": [
            "SVM Evaluation:\n",
            "Mean Squared Error: 20.131600654582403\n",
            "R² Score: 0.1376367901351112\n"
          ]
        }
      ]
    },
    {
      "cell_type": "markdown",
      "source": [
        "# Part 6: 📊 Combine Predictions with Actuals & Prices"
      ],
      "metadata": {
        "id": "s24U4t8Vlc4z"
      }
    },
    {
      "cell_type": "code",
      "source": [
        "result_df = pd.DataFrame({\n",
        "    'Ticker': df_cleaned['ticker'],\n",
        "    'Actual_Perf.W': df_cleaned['Perf.W'],\n",
        "    'Predicted_Perf.W_RF': y_pred_all,\n",
        "    'Close_Price': df_cleaned['close']\n",
        "})\n"
      ],
      "metadata": {
        "id": "BeHkzOOxlh8T"
      },
      "execution_count": 16,
      "outputs": []
    },
    {
      "cell_type": "code",
      "source": [
        "y_pred_all_svm = svm_model.predict(X_all)\n",
        "result_df['Predicted_Perf.W_SVM'] = y_pred_all_svm\n"
      ],
      "metadata": {
        "id": "GAGtutj2l1N7"
      },
      "execution_count": 19,
      "outputs": []
    },
    {
      "cell_type": "code",
      "source": [
        "print(result_df)\n"
      ],
      "metadata": {
        "colab": {
          "base_uri": "https://localhost:8080/"
        },
        "id": "KkknvAlHmFpa",
        "outputId": "7a04ca9d-42dd-4b8f-cbae-70fe0c64fca3"
      },
      "execution_count": 44,
      "outputs": [
        {
          "output_type": "stream",
          "name": "stdout",
          "text": [
            "               Ticker  Actual_Perf.W  Predicted_Perf.W_RF  Close_Price  \\\n",
            "0            EGX:EGTS     -13.991770           -11.811624        8.360   \n",
            "1            EGX:JUFO       0.636943            -1.470988       28.440   \n",
            "2            EGX:TMGH      -0.953271            -0.150640       52.990   \n",
            "3            EGX:COMI       1.500000             1.637972       81.200   \n",
            "4            EGX:CRST      29.861982            24.746899        1.035   \n",
            "..                ...            ...                  ...          ...   \n",
            "246          EGX:PHTV      -2.044936             0.179451      111.610   \n",
            "247          EGX:GGRN      -1.574803            -2.184779        1.250   \n",
            "248          EGX:FERC       0.000000            -0.710666        9.220   \n",
            "249  EGX:EGS370O1C013       0.000000            -0.790685        1.000   \n",
            "250          EGX:MKIT       9.927361            12.838118        4.540   \n",
            "\n",
            "     Predicted_Perf.W_SVM  \n",
            "0               -1.405315  \n",
            "1                0.025612  \n",
            "2                1.835344  \n",
            "3                1.618785  \n",
            "4                2.351400  \n",
            "..                    ...  \n",
            "246             -0.288872  \n",
            "247             -1.862249  \n",
            "248             -1.410391  \n",
            "249             -0.628690  \n",
            "250              4.259237  \n",
            "\n",
            "[251 rows x 5 columns]\n"
          ]
        }
      ]
    },
    {
      "cell_type": "markdown",
      "source": [
        "#  Part 7: 🧭 Classification – Will the Stock Go Up?"
      ],
      "metadata": {
        "id": "7ot1SG95mZhQ"
      }
    },
    {
      "cell_type": "code",
      "source": [
        "# Create classification target\n",
        "df['Direction'] = (df['Perf.W'] > 0).astype(int)\n",
        "\n",
        "# Select numeric features only\n",
        "features = [\n",
        "    'change', 'Perf.1M', 'Stoch.K', 'RSI', 'CCI20',\n",
        "    'Stoch.D', 'Perf.3M', 'Perf.6M', 'Perf.YTD', 'Mom'\n",
        "]\n",
        "\n",
        "X = df[features].dropna()\n",
        "y = df.loc[X.index, 'Direction']"
      ],
      "metadata": {
        "id": "mobGAnU6mTr7"
      },
      "execution_count": 69,
      "outputs": []
    },
    {
      "cell_type": "code",
      "source": [
        "# Scale features\n",
        "scaler = StandardScaler()\n",
        "X_scaled = scaler.fit_transform(X_class)"
      ],
      "metadata": {
        "id": "kldmvC-fqdvB"
      },
      "execution_count": 53,
      "outputs": []
    },
    {
      "cell_type": "code",
      "source": [
        "pca = PCA(n_components=0.95)\n",
        "X_pca = pca.fit_transform(X_scaled)"
      ],
      "metadata": {
        "id": "Azys1TFXtNAq"
      },
      "execution_count": 73,
      "outputs": []
    },
    {
      "cell_type": "code",
      "source": [
        "from xgboost import XGBClassifier\n",
        "clf = XGBClassifier(\n",
        "    n_estimators=300,\n",
        "    learning_rate=0.05,\n",
        "    max_depth=6,\n",
        "    subsample=0.8,\n",
        "    colsample_bytree=0.8,\n",
        "    use_label_encoder=False,\n",
        "    eval_metric='logloss',\n",
        "    random_state=42\n",
        ")"
      ],
      "metadata": {
        "id": "oSsX6AKTunQm"
      },
      "execution_count": 91,
      "outputs": []
    },
    {
      "cell_type": "code",
      "source": [
        "skf = StratifiedKFold(n_splits=5, shuffle=True, random_state=42)\n",
        "all_preds = np.zeros(len(X_class))\n",
        "accuracies = []\n",
        "\n",
        "for fold, (train_idx, test_idx) in enumerate(skf.split(X_scaled, y_class), 1):\n",
        "    X_train, X_test = X_scaled[train_idx], X_scaled[test_idx]\n",
        "    y_train, y_test = y_class.iloc[train_idx], y_class.iloc[test_idx]\n",
        "\n",
        "    clf.fit(X_train, y_train)\n",
        "    preds = clf.predict(X_test)\n",
        "    all_preds[test_idx] = preds\n",
        "\n",
        "    acc = accuracy_score(y_test, preds)\n",
        "    accuracies.append(acc)\n",
        "\n",
        "    print(f\"\\n📂 Fold {fold}\")\n",
        "    print(\"🎯 Accuracy:\", round(acc, 4))\n",
        "    print(\"📋 Classification Report:\\n\", classification_report(y_test, preds))\n",
        "\n",
        "# Step 6: Save predictions\n",
        "df_class = df.loc[X_class.index].copy()\n",
        "df_class['Predicted_Up'] = all_preds.astype(int)\n",
        "\n",
        "# Step 7: Print final results\n",
        "print(f\"\\n✅ Average CV Accuracy: {np.mean(accuracies):.4f} ± {np.std(accuracies):.4f}\")"
      ],
      "metadata": {
        "colab": {
          "base_uri": "https://localhost:8080/"
        },
        "id": "NIuKdVCSmick",
        "outputId": "05f69f0f-6142-4708-eb8d-9270c643e259"
      },
      "execution_count": 98,
      "outputs": [
        {
          "output_type": "stream",
          "name": "stdout",
          "text": [
            "\n",
            "📂 Fold 1\n",
            "🎯 Accuracy: 0.8431\n",
            "📋 Classification Report:\n",
            "               precision    recall  f1-score   support\n",
            "\n",
            "           0       0.84      0.94      0.89        33\n",
            "           1       0.86      0.67      0.75        18\n",
            "\n",
            "    accuracy                           0.84        51\n",
            "   macro avg       0.85      0.80      0.82        51\n",
            "weighted avg       0.84      0.84      0.84        51\n",
            "\n",
            "\n",
            "📂 Fold 2\n",
            "🎯 Accuracy: 0.86\n",
            "📋 Classification Report:\n",
            "               precision    recall  f1-score   support\n",
            "\n",
            "           0       0.86      0.94      0.90        33\n",
            "           1       0.86      0.71      0.77        17\n",
            "\n",
            "    accuracy                           0.86        50\n",
            "   macro avg       0.86      0.82      0.84        50\n",
            "weighted avg       0.86      0.86      0.86        50\n",
            "\n",
            "\n",
            "📂 Fold 3\n",
            "🎯 Accuracy: 0.76\n",
            "📋 Classification Report:\n",
            "               precision    recall  f1-score   support\n",
            "\n",
            "           0       0.77      0.91      0.83        33\n",
            "           1       0.73      0.47      0.57        17\n",
            "\n",
            "    accuracy                           0.76        50\n",
            "   macro avg       0.75      0.69      0.70        50\n",
            "weighted avg       0.75      0.76      0.74        50\n",
            "\n",
            "\n",
            "📂 Fold 4\n",
            "🎯 Accuracy: 0.84\n",
            "📋 Classification Report:\n",
            "               precision    recall  f1-score   support\n",
            "\n",
            "           0       0.82      0.97      0.89        32\n",
            "           1       0.92      0.61      0.73        18\n",
            "\n",
            "    accuracy                           0.84        50\n",
            "   macro avg       0.87      0.79      0.81        50\n",
            "weighted avg       0.85      0.84      0.83        50\n",
            "\n",
            "\n",
            "📂 Fold 5\n",
            "🎯 Accuracy: 0.88\n",
            "📋 Classification Report:\n",
            "               precision    recall  f1-score   support\n",
            "\n",
            "           0       0.86      0.97      0.91        32\n",
            "           1       0.93      0.72      0.81        18\n",
            "\n",
            "    accuracy                           0.88        50\n",
            "   macro avg       0.89      0.85      0.86        50\n",
            "weighted avg       0.89      0.88      0.88        50\n",
            "\n",
            "\n",
            "✅ Average CV Accuracy: 0.8366 ± 0.0409\n"
          ]
        }
      ]
    },
    {
      "cell_type": "code",
      "source": [
        "classification_df = df_cleaned[['ticker', 'Perf.W', 'Target_Up', 'Predicted_Up', 'close']]\n",
        "print(classification_df)\n"
      ],
      "metadata": {
        "colab": {
          "base_uri": "https://localhost:8080/"
        },
        "id": "Do3T2Zg6myzz",
        "outputId": "c7f7f347-1f26-4bfd-854a-0c2c1ca31ec6"
      },
      "execution_count": 156,
      "outputs": [
        {
          "output_type": "stream",
          "name": "stdout",
          "text": [
            "               ticker     Perf.W  Target_Up  Predicted_Up    close\n",
            "0            EGX:EGTS -13.991770          0             0    8.360\n",
            "1            EGX:JUFO   0.636943          1             0   28.440\n",
            "2            EGX:TMGH  -0.953271          0             1   52.990\n",
            "3            EGX:COMI   1.500000          1             1   81.200\n",
            "4            EGX:CRST  29.861982          1             1    1.035\n",
            "..                ...        ...        ...           ...      ...\n",
            "246          EGX:PHTV  -2.044936          0             0  111.610\n",
            "247          EGX:GGRN  -1.574803          0             0    1.250\n",
            "248          EGX:FERC   0.000000          0             0    9.220\n",
            "249  EGX:EGS370O1C013   0.000000          0             0    1.000\n",
            "250          EGX:MKIT   9.927361          1             1    4.540\n",
            "\n",
            "[251 rows x 5 columns]\n"
          ]
        }
      ]
    },
    {
      "cell_type": "markdown",
      "source": [
        "# 🔹 Part 8:  Risk Segmentation with Confidence Scores"
      ],
      "metadata": {
        "id": "heqaGfVuqw6F"
      }
    },
    {
      "cell_type": "code",
      "source": [
        "df['Volatility.W'] = (\n",
        "    df['Volatility.W']\n",
        "    .astype(str)\n",
        "    .str.replace('%', '', regex=False)\n",
        "    .str.strip()\n",
        ")\n",
        "df['Volatility.W'] = pd.to_numeric(df['Volatility.W'], errors='coerce')\n"
      ],
      "metadata": {
        "id": "jurOPRk2qv6s"
      },
      "execution_count": 100,
      "outputs": []
    },
    {
      "cell_type": "code",
      "source": [
        "volatility = df.loc[X_class.index, 'Volatility.W'].reset_index(drop=True)\n",
        "sector = df.loc[X_class.index, 'sector'].reset_index(drop=True)\n",
        "ticker = df.loc[X_class.index, 'ticker'].reset_index(drop=True)\n"
      ],
      "metadata": {
        "id": "1dbgW2PPq-Sl"
      },
      "execution_count": 101,
      "outputs": []
    },
    {
      "cell_type": "code",
      "source": [
        "probas = clf.predict_proba(X_scaled)[:, 1]"
      ],
      "metadata": {
        "id": "pJxDQ7cCrD2S"
      },
      "execution_count": 102,
      "outputs": []
    },
    {
      "cell_type": "code",
      "source": [
        "low_cutoff = volatility.quantile(0.33)\n",
        "high_cutoff = volatility.quantile(0.66)\n",
        "\n",
        "def label_risk(vol):\n",
        "    if vol <= low_cutoff:\n",
        "        return 'Low'\n",
        "    elif vol <= high_cutoff:\n",
        "        return 'Medium'\n",
        "    else:\n",
        "        return 'High'\n",
        "\n",
        "risk_level = volatility.apply(label_risk)"
      ],
      "metadata": {
        "id": "ggK40VLErGiR"
      },
      "execution_count": 103,
      "outputs": []
    },
    {
      "cell_type": "code",
      "source": [
        "# Risk segmentation\n",
        "vol_test = test_df['volatility']\n",
        "low, high = vol_test.quantile([0.33, 0.66])\n",
        "\n",
        "def label_risk(vol):\n",
        "  if vol <= low:\n",
        "      return 'Low'\n",
        "  elif vol <= high:\n",
        "      return 'Medium'\n",
        "  return 'High'\n",
        "\n",
        "risk_labels = vol_test.apply(label_risk)\n"
      ],
      "metadata": {
        "id": "aW9JBVdPrL8F"
      },
      "execution_count": 65,
      "outputs": []
    },
    {
      "cell_type": "code",
      "source": [
        "risk_results = pd.DataFrame({\n",
        "    'Ticker': ticker,\n",
        "    'Sector': sector,\n",
        "    'Predicted Direction': np.where(df_class['Predicted_Up'] == 1, 'Up', 'Down'),\n",
        "    'Confidence (%)': (probas * 100).round(1),\n",
        "    'Volatility (%)': volatility.round(2),\n",
        "    'Risk Level': risk_level\n",
        "}).sort_values(by='Confidence (%)', ascending=False).reset_index(drop=True)\n",
        "\n",
        "# Step 6: Show preview\n",
        "print(\"📊 Risk-Tagged Prediction Preview:\")\n",
        "print(risk_results)"
      ],
      "metadata": {
        "colab": {
          "base_uri": "https://localhost:8080/"
        },
        "id": "NObq_F7hrY9m",
        "outputId": "bb8fbac5-7be0-4d8a-baff-c61915bdc9be"
      },
      "execution_count": 104,
      "outputs": [
        {
          "output_type": "stream",
          "name": "stdout",
          "text": [
            "📊 Risk-Tagged Prediction Preview:\n",
            "       Ticker                  Sector Predicted Direction  Confidence (%)  \\\n",
            "0     EGX:OIH          Communications                  Up            98.8   \n",
            "1    EGX:AIFI      Process Industries                  Up            98.0   \n",
            "2    EGX:BINV                 Finance                  Up            96.7   \n",
            "3    EGX:UEGC     Industrial Services                  Up            96.7   \n",
            "4    EGX:POUL      Process Industries                  Up            96.3   \n",
            "..        ...                     ...                 ...             ...   \n",
            "246  EGX:CCAP                 Finance                Down             1.8   \n",
            "247  EGX:SCEM     Non-Energy Minerals                Down             1.6   \n",
            "248  EGX:EGCH      Process Industries                Down             1.5   \n",
            "249  EGX:ELEC  Producer Manufacturing                Down             1.4   \n",
            "250  EGX:RACC     Commercial Services                Down             0.5   \n",
            "\n",
            "     Volatility (%) Risk Level  \n",
            "0              3.24     Medium  \n",
            "1              5.48       High  \n",
            "2              3.43     Medium  \n",
            "3              4.94       High  \n",
            "4              4.06       High  \n",
            "..              ...        ...  \n",
            "246            2.95     Medium  \n",
            "247            4.32       High  \n",
            "248            2.13        Low  \n",
            "249            2.11        Low  \n",
            "250            2.45     Medium  \n",
            "\n",
            "[251 rows x 6 columns]\n"
          ]
        }
      ]
    },
    {
      "cell_type": "markdown",
      "source": [
        "# Part 9: 📥 Predicting on New Week’s Dataset"
      ],
      "metadata": {
        "id": "weaKrvkgm7UZ"
      }
    },
    {
      "cell_type": "code",
      "source": [
        "df_new = pd.read_csv('/content/23-5-2025.csv')"
      ],
      "metadata": {
        "id": "_gldvpJDm9wd"
      },
      "execution_count": 105,
      "outputs": []
    },
    {
      "cell_type": "code",
      "source": [
        "df_new_sorted = df_new.sort_values(by='ticker').reset_index(drop=True)\n",
        "results_df_sorted = df_class.sort_values(by='ticker').reset_index(drop=True)"
      ],
      "metadata": {
        "id": "TB32YeoVnGKT"
      },
      "execution_count": 113,
      "outputs": []
    },
    {
      "cell_type": "code",
      "source": [
        "# Step 3: Filter new dataset to only include previously predicted tickers\n",
        "tickers_old = results_df_sorted['ticker'].unique()\n",
        "df_new_filtered = df_new[df_new['ticker'].isin(tickers_old)].copy()\n",
        "df_new_filtered = df_new_filtered.sort_values(by='ticker').reset_index(drop=True)\n"
      ],
      "metadata": {
        "id": "LmisXWGDnH9X"
      },
      "execution_count": 114,
      "outputs": []
    },
    {
      "cell_type": "code",
      "source": [
        "print(results_df_sorted.columns.tolist())\n"
      ],
      "metadata": {
        "colab": {
          "base_uri": "https://localhost:8080/"
        },
        "id": "tQhe2LKH0ODb",
        "outputId": "8d3b9923-d520-452f-d74c-8fedee665b30"
      },
      "execution_count": 126,
      "outputs": [
        {
          "output_type": "stream",
          "name": "stdout",
          "text": [
            "['ticker', 'description', 'sector', 'open', 'high', 'low', 'close', 'change', 'Perf.W', 'Perf.1M', 'Perf.3M', 'Perf.6M', 'Perf.YTD', 'RSI', 'Mom', 'AO', 'CCI20', 'Stoch.K', 'Stoch.D', 'MACD.macd', 'MACD.signal', 'volume', 'relative_volume_10d_calc', 'Volatility.W', 'Volatility.M', 'price_earnings_ttm', 'price_earnings_growth_ttm', 'price_sales_current', 'price_book_fq', 'price_free_cash_flow_ttm', 'price_to_cash_ratio', 'gross_margin_ttm', 'operating_margin_ttm', 'return_on_assets_fq', 'return_on_equity_fq', 'free_cash_flow_margin_ttm', 'sell_gen_admin_exp_other_ratio_ttm', 'cash_f_operating_activities_ttm', 'cash_f_investing_activities_ttm', 'cash_f_financing_activities_ttm', 'total_debt_fq', 'net_debt_fq', 'debt_to_equity_fq', 'cash_n_short_term_invest_to_total_debt_fq', 'total_revenue_ttm', 'total_assets_fq', 'total_equity_fq', 'current_ratio_fq', 'quick_ratio_fq', 'Predicted_Up']\n"
          ]
        }
      ]
    },
    {
      "cell_type": "code",
      "source": [
        "# Step 4: Merge on ticker and compare close prices\n",
        "merged_df = pd.merge(\n",
        "    results_df_sorted,\n",
        "    df_new_filtered[['ticker', 'close']],\n",
        "    on='ticker',\n",
        "    how='inner',\n",
        "    suffixes=('', '_new')  # now we have 'close' and 'close_new'\n",
        ")\n",
        "\n",
        "# Step 5: Actual direction based on new price\n",
        "merged_df['real_up'] = (merged_df['close_new'] > merged_df['close']).astype(int)\n",
        "\n",
        "# Step 6: Compare predictions\n",
        "merged_df['prediction_correct'] = (merged_df['Predicted_Up'] == merged_df['real_up']).astype(int)\n"
      ],
      "metadata": {
        "id": "Smf4FDGWnJ-_"
      },
      "execution_count": 127,
      "outputs": []
    },
    {
      "cell_type": "code",
      "source": [
        "# Step 7: Summary stats\n",
        "correct_count = merged_df['prediction_correct'].sum()\n",
        "incorrect_count = len(merged_df) - correct_count\n",
        "\n",
        "print(f\"✅ Correct Predictions: {correct_count}\")\n",
        "print(f\"❌ Incorrect Predictions: {incorrect_count}\")\n"
      ],
      "metadata": {
        "colab": {
          "base_uri": "https://localhost:8080/"
        },
        "id": "is1JXlYYnPxM",
        "outputId": "6798fd50-2010-449b-b63d-c366030405a4"
      },
      "execution_count": 131,
      "outputs": [
        {
          "output_type": "stream",
          "name": "stdout",
          "text": [
            "✅ Correct Predictions: 158\n",
            "❌ Incorrect Predictions: 93\n"
          ]
        }
      ]
    },
    {
      "cell_type": "code",
      "source": [
        "# Step 8: Analyze incorrect predictions\n",
        "wrong_predictions_df = merged_df[merged_df['prediction_correct'] == 0].copy()\n",
        "wrong_predictions_df['close_diff'] = (wrong_predictions_df['close_new'] - wrong_predictions_df['close']).abs()\n"
      ],
      "metadata": {
        "id": "jNbCW-evnjFZ"
      },
      "execution_count": 132,
      "outputs": []
    },
    {
      "cell_type": "code",
      "source": [
        "print(wrong_detailed.columns.tolist())\n"
      ],
      "metadata": {
        "colab": {
          "base_uri": "https://localhost:8080/"
        },
        "id": "uImMFH511fYl",
        "outputId": "69f3ebd7-d856-49ef-e37e-708ebc71cba9"
      },
      "execution_count": 139,
      "outputs": [
        {
          "output_type": "stream",
          "name": "stdout",
          "text": [
            "['ticker', 'description_x', 'sector_x', 'open', 'high', 'low', 'close', 'change', 'Perf.W', 'Perf.1M', 'Perf.3M', 'Perf.6M', 'Perf.YTD', 'RSI', 'Mom', 'AO', 'CCI20', 'Stoch.K', 'Stoch.D', 'MACD.macd', 'MACD.signal', 'volume', 'relative_volume_10d_calc', 'Volatility.W', 'Volatility.M', 'price_earnings_ttm', 'price_earnings_growth_ttm', 'price_sales_current', 'price_book_fq', 'price_free_cash_flow_ttm', 'price_to_cash_ratio', 'gross_margin_ttm', 'operating_margin_ttm', 'return_on_assets_fq', 'return_on_equity_fq', 'free_cash_flow_margin_ttm', 'sell_gen_admin_exp_other_ratio_ttm', 'cash_f_operating_activities_ttm', 'cash_f_investing_activities_ttm', 'cash_f_financing_activities_ttm', 'total_debt_fq', 'net_debt_fq', 'debt_to_equity_fq', 'cash_n_short_term_invest_to_total_debt_fq', 'total_revenue_ttm', 'total_assets_fq', 'total_equity_fq', 'current_ratio_fq', 'quick_ratio_fq', 'Predicted_Up', 'close_new', 'real_up', 'prediction_correct', 'close_diff', 'description_y', 'sector_y']\n"
          ]
        }
      ]
    },
    {
      "cell_type": "code",
      "source": [
        "# Step 9: Clean and merge with company info\n",
        "df_cleaned['ticker'] = df_cleaned['ticker'].astype(str).str.strip().str.upper()\n",
        "wrong_predictions_df['ticker'] = wrong_predictions_df['ticker'].astype(str).str.strip().str.upper()\n",
        "\n",
        "# Safe merge (avoid overwriting if description/sector already exist)\n",
        "wrong_detailed = wrong_predictions_df.merge(\n",
        "    df_cleaned[['ticker', 'description', 'sector']],\n",
        "    on='ticker',\n",
        "    how='left',\n",
        "    suffixes=('', '_info')  # prevent overwrite\n",
        ")\n",
        "\n",
        "# Fill missing values after checking actual column names\n",
        "wrong_detailed[['description_info', 'sector_info']] = wrong_detailed[['description_info', 'sector_info']].fillna('Unknown')\n"
      ],
      "metadata": {
        "id": "C8x-wPJt0iHm"
      },
      "execution_count": 140,
      "outputs": []
    },
    {
      "cell_type": "code",
      "source": [
        "# Step 10: Display wrong predictions\n",
        "from IPython.display import display\n",
        "print(f\"❌ Total Incorrect Predictions: {len(wrong_detailed)}\")\n",
        "display(wrong_detailed[['ticker', 'description_info', 'sector_info', 'close', 'close_new', 'close_diff']])\n"
      ],
      "metadata": {
        "colab": {
          "base_uri": "https://localhost:8080/",
          "height": 1000
        },
        "id": "v450vEFA1kzc",
        "outputId": "a089a6c6-9862-456a-f287-cc4a36e3a47a"
      },
      "execution_count": 149,
      "outputs": [
        {
          "output_type": "stream",
          "name": "stdout",
          "text": [
            "❌ Total Incorrect Predictions: 93\n"
          ]
        },
        {
          "output_type": "display_data",
          "data": {
            "text/plain": [
              "      ticker                                   description_info  \\\n",
              "0   EGX:ADIB                      ABU DHABI ISLAMIC BANK- EGYPT   \n",
              "1   EGX:ADPC     THE ARAB DAIRY PRODUCTS CO. ARAB DAIRY - PANDA   \n",
              "2   EGX:ADRI          ARAB DEVELOPMENT & REAL ESTATE INVESTMENT   \n",
              "3   EGX:AIFI           ATLAS FOR INVESTMENT AND FOOD INDUSTRIES   \n",
              "4    EGX:AIH                         ARABIA INVESTMENTS HOLDING   \n",
              "..       ...                                                ...   \n",
              "88  EGX:TANM                 TANMIYA FOR REAL ESTATE INVESTMENT   \n",
              "89  EGX:TMGH                                      T M G HOLDING   \n",
              "90  EGX:UEGC  ELSAEED CONTRACTING& REAL ESTATE INVESTMENT CO...   \n",
              "91  EGX:UPMS  UNION PHARMACIST COMPANY FOR MEDICAL SERVICES ...   \n",
              "92  EGX:UTOP                                             UTOPIA   \n",
              "\n",
              "              sector_info   close  close_new  close_diff  \n",
              "0                 Finance  40.700     41.700        1.00  \n",
              "1   Consumer Non-Durables   3.550      3.650        0.10  \n",
              "2                 Finance   1.080      1.100        0.02  \n",
              "3      Process Industries   1.840      1.800        0.04  \n",
              "4     Industrial Services   0.538      0.528        0.01  \n",
              "..                    ...     ...        ...         ...  \n",
              "88                Finance   3.440      3.490        0.05  \n",
              "89                Finance  52.990     51.010        1.98  \n",
              "90    Industrial Services   1.120      1.100        0.02  \n",
              "91        Health Services   8.970      7.900        1.07  \n",
              "92                Finance  39.390     41.400        2.01  \n",
              "\n",
              "[93 rows x 6 columns]"
            ],
            "text/html": [
              "\n",
              "  <div id=\"df-30f68566-9570-430d-a40c-ef2849c6ec9e\" class=\"colab-df-container\">\n",
              "    <div>\n",
              "<style scoped>\n",
              "    .dataframe tbody tr th:only-of-type {\n",
              "        vertical-align: middle;\n",
              "    }\n",
              "\n",
              "    .dataframe tbody tr th {\n",
              "        vertical-align: top;\n",
              "    }\n",
              "\n",
              "    .dataframe thead th {\n",
              "        text-align: right;\n",
              "    }\n",
              "</style>\n",
              "<table border=\"1\" class=\"dataframe\">\n",
              "  <thead>\n",
              "    <tr style=\"text-align: right;\">\n",
              "      <th></th>\n",
              "      <th>ticker</th>\n",
              "      <th>description_info</th>\n",
              "      <th>sector_info</th>\n",
              "      <th>close</th>\n",
              "      <th>close_new</th>\n",
              "      <th>close_diff</th>\n",
              "    </tr>\n",
              "  </thead>\n",
              "  <tbody>\n",
              "    <tr>\n",
              "      <th>0</th>\n",
              "      <td>EGX:ADIB</td>\n",
              "      <td>ABU DHABI ISLAMIC BANK- EGYPT</td>\n",
              "      <td>Finance</td>\n",
              "      <td>40.700</td>\n",
              "      <td>41.700</td>\n",
              "      <td>1.00</td>\n",
              "    </tr>\n",
              "    <tr>\n",
              "      <th>1</th>\n",
              "      <td>EGX:ADPC</td>\n",
              "      <td>THE ARAB DAIRY PRODUCTS CO. ARAB DAIRY - PANDA</td>\n",
              "      <td>Consumer Non-Durables</td>\n",
              "      <td>3.550</td>\n",
              "      <td>3.650</td>\n",
              "      <td>0.10</td>\n",
              "    </tr>\n",
              "    <tr>\n",
              "      <th>2</th>\n",
              "      <td>EGX:ADRI</td>\n",
              "      <td>ARAB DEVELOPMENT &amp; REAL ESTATE INVESTMENT</td>\n",
              "      <td>Finance</td>\n",
              "      <td>1.080</td>\n",
              "      <td>1.100</td>\n",
              "      <td>0.02</td>\n",
              "    </tr>\n",
              "    <tr>\n",
              "      <th>3</th>\n",
              "      <td>EGX:AIFI</td>\n",
              "      <td>ATLAS FOR INVESTMENT AND FOOD INDUSTRIES</td>\n",
              "      <td>Process Industries</td>\n",
              "      <td>1.840</td>\n",
              "      <td>1.800</td>\n",
              "      <td>0.04</td>\n",
              "    </tr>\n",
              "    <tr>\n",
              "      <th>4</th>\n",
              "      <td>EGX:AIH</td>\n",
              "      <td>ARABIA INVESTMENTS HOLDING</td>\n",
              "      <td>Industrial Services</td>\n",
              "      <td>0.538</td>\n",
              "      <td>0.528</td>\n",
              "      <td>0.01</td>\n",
              "    </tr>\n",
              "    <tr>\n",
              "      <th>...</th>\n",
              "      <td>...</td>\n",
              "      <td>...</td>\n",
              "      <td>...</td>\n",
              "      <td>...</td>\n",
              "      <td>...</td>\n",
              "      <td>...</td>\n",
              "    </tr>\n",
              "    <tr>\n",
              "      <th>88</th>\n",
              "      <td>EGX:TANM</td>\n",
              "      <td>TANMIYA FOR REAL ESTATE INVESTMENT</td>\n",
              "      <td>Finance</td>\n",
              "      <td>3.440</td>\n",
              "      <td>3.490</td>\n",
              "      <td>0.05</td>\n",
              "    </tr>\n",
              "    <tr>\n",
              "      <th>89</th>\n",
              "      <td>EGX:TMGH</td>\n",
              "      <td>T M G HOLDING</td>\n",
              "      <td>Finance</td>\n",
              "      <td>52.990</td>\n",
              "      <td>51.010</td>\n",
              "      <td>1.98</td>\n",
              "    </tr>\n",
              "    <tr>\n",
              "      <th>90</th>\n",
              "      <td>EGX:UEGC</td>\n",
              "      <td>ELSAEED CONTRACTING&amp; REAL ESTATE INVESTMENT CO...</td>\n",
              "      <td>Industrial Services</td>\n",
              "      <td>1.120</td>\n",
              "      <td>1.100</td>\n",
              "      <td>0.02</td>\n",
              "    </tr>\n",
              "    <tr>\n",
              "      <th>91</th>\n",
              "      <td>EGX:UPMS</td>\n",
              "      <td>UNION PHARMACIST COMPANY FOR MEDICAL SERVICES ...</td>\n",
              "      <td>Health Services</td>\n",
              "      <td>8.970</td>\n",
              "      <td>7.900</td>\n",
              "      <td>1.07</td>\n",
              "    </tr>\n",
              "    <tr>\n",
              "      <th>92</th>\n",
              "      <td>EGX:UTOP</td>\n",
              "      <td>UTOPIA</td>\n",
              "      <td>Finance</td>\n",
              "      <td>39.390</td>\n",
              "      <td>41.400</td>\n",
              "      <td>2.01</td>\n",
              "    </tr>\n",
              "  </tbody>\n",
              "</table>\n",
              "<p>93 rows × 6 columns</p>\n",
              "</div>\n",
              "    <div class=\"colab-df-buttons\">\n",
              "\n",
              "  <div class=\"colab-df-container\">\n",
              "    <button class=\"colab-df-convert\" onclick=\"convertToInteractive('df-30f68566-9570-430d-a40c-ef2849c6ec9e')\"\n",
              "            title=\"Convert this dataframe to an interactive table.\"\n",
              "            style=\"display:none;\">\n",
              "\n",
              "  <svg xmlns=\"http://www.w3.org/2000/svg\" height=\"24px\" viewBox=\"0 -960 960 960\">\n",
              "    <path d=\"M120-120v-720h720v720H120Zm60-500h600v-160H180v160Zm220 220h160v-160H400v160Zm0 220h160v-160H400v160ZM180-400h160v-160H180v160Zm440 0h160v-160H620v160ZM180-180h160v-160H180v160Zm440 0h160v-160H620v160Z\"/>\n",
              "  </svg>\n",
              "    </button>\n",
              "\n",
              "  <style>\n",
              "    .colab-df-container {\n",
              "      display:flex;\n",
              "      gap: 12px;\n",
              "    }\n",
              "\n",
              "    .colab-df-convert {\n",
              "      background-color: #E8F0FE;\n",
              "      border: none;\n",
              "      border-radius: 50%;\n",
              "      cursor: pointer;\n",
              "      display: none;\n",
              "      fill: #1967D2;\n",
              "      height: 32px;\n",
              "      padding: 0 0 0 0;\n",
              "      width: 32px;\n",
              "    }\n",
              "\n",
              "    .colab-df-convert:hover {\n",
              "      background-color: #E2EBFA;\n",
              "      box-shadow: 0px 1px 2px rgba(60, 64, 67, 0.3), 0px 1px 3px 1px rgba(60, 64, 67, 0.15);\n",
              "      fill: #174EA6;\n",
              "    }\n",
              "\n",
              "    .colab-df-buttons div {\n",
              "      margin-bottom: 4px;\n",
              "    }\n",
              "\n",
              "    [theme=dark] .colab-df-convert {\n",
              "      background-color: #3B4455;\n",
              "      fill: #D2E3FC;\n",
              "    }\n",
              "\n",
              "    [theme=dark] .colab-df-convert:hover {\n",
              "      background-color: #434B5C;\n",
              "      box-shadow: 0px 1px 3px 1px rgba(0, 0, 0, 0.15);\n",
              "      filter: drop-shadow(0px 1px 2px rgba(0, 0, 0, 0.3));\n",
              "      fill: #FFFFFF;\n",
              "    }\n",
              "  </style>\n",
              "\n",
              "    <script>\n",
              "      const buttonEl =\n",
              "        document.querySelector('#df-30f68566-9570-430d-a40c-ef2849c6ec9e button.colab-df-convert');\n",
              "      buttonEl.style.display =\n",
              "        google.colab.kernel.accessAllowed ? 'block' : 'none';\n",
              "\n",
              "      async function convertToInteractive(key) {\n",
              "        const element = document.querySelector('#df-30f68566-9570-430d-a40c-ef2849c6ec9e');\n",
              "        const dataTable =\n",
              "          await google.colab.kernel.invokeFunction('convertToInteractive',\n",
              "                                                    [key], {});\n",
              "        if (!dataTable) return;\n",
              "\n",
              "        const docLinkHtml = 'Like what you see? Visit the ' +\n",
              "          '<a target=\"_blank\" href=https://colab.research.google.com/notebooks/data_table.ipynb>data table notebook</a>'\n",
              "          + ' to learn more about interactive tables.';\n",
              "        element.innerHTML = '';\n",
              "        dataTable['output_type'] = 'display_data';\n",
              "        await google.colab.output.renderOutput(dataTable, element);\n",
              "        const docLink = document.createElement('div');\n",
              "        docLink.innerHTML = docLinkHtml;\n",
              "        element.appendChild(docLink);\n",
              "      }\n",
              "    </script>\n",
              "  </div>\n",
              "\n",
              "\n",
              "    <div id=\"df-7d87072e-0687-4bb4-a68c-83c8216af892\">\n",
              "      <button class=\"colab-df-quickchart\" onclick=\"quickchart('df-7d87072e-0687-4bb4-a68c-83c8216af892')\"\n",
              "                title=\"Suggest charts\"\n",
              "                style=\"display:none;\">\n",
              "\n",
              "<svg xmlns=\"http://www.w3.org/2000/svg\" height=\"24px\"viewBox=\"0 0 24 24\"\n",
              "     width=\"24px\">\n",
              "    <g>\n",
              "        <path d=\"M19 3H5c-1.1 0-2 .9-2 2v14c0 1.1.9 2 2 2h14c1.1 0 2-.9 2-2V5c0-1.1-.9-2-2-2zM9 17H7v-7h2v7zm4 0h-2V7h2v10zm4 0h-2v-4h2v4z\"/>\n",
              "    </g>\n",
              "</svg>\n",
              "      </button>\n",
              "\n",
              "<style>\n",
              "  .colab-df-quickchart {\n",
              "      --bg-color: #E8F0FE;\n",
              "      --fill-color: #1967D2;\n",
              "      --hover-bg-color: #E2EBFA;\n",
              "      --hover-fill-color: #174EA6;\n",
              "      --disabled-fill-color: #AAA;\n",
              "      --disabled-bg-color: #DDD;\n",
              "  }\n",
              "\n",
              "  [theme=dark] .colab-df-quickchart {\n",
              "      --bg-color: #3B4455;\n",
              "      --fill-color: #D2E3FC;\n",
              "      --hover-bg-color: #434B5C;\n",
              "      --hover-fill-color: #FFFFFF;\n",
              "      --disabled-bg-color: #3B4455;\n",
              "      --disabled-fill-color: #666;\n",
              "  }\n",
              "\n",
              "  .colab-df-quickchart {\n",
              "    background-color: var(--bg-color);\n",
              "    border: none;\n",
              "    border-radius: 50%;\n",
              "    cursor: pointer;\n",
              "    display: none;\n",
              "    fill: var(--fill-color);\n",
              "    height: 32px;\n",
              "    padding: 0;\n",
              "    width: 32px;\n",
              "  }\n",
              "\n",
              "  .colab-df-quickchart:hover {\n",
              "    background-color: var(--hover-bg-color);\n",
              "    box-shadow: 0 1px 2px rgba(60, 64, 67, 0.3), 0 1px 3px 1px rgba(60, 64, 67, 0.15);\n",
              "    fill: var(--button-hover-fill-color);\n",
              "  }\n",
              "\n",
              "  .colab-df-quickchart-complete:disabled,\n",
              "  .colab-df-quickchart-complete:disabled:hover {\n",
              "    background-color: var(--disabled-bg-color);\n",
              "    fill: var(--disabled-fill-color);\n",
              "    box-shadow: none;\n",
              "  }\n",
              "\n",
              "  .colab-df-spinner {\n",
              "    border: 2px solid var(--fill-color);\n",
              "    border-color: transparent;\n",
              "    border-bottom-color: var(--fill-color);\n",
              "    animation:\n",
              "      spin 1s steps(1) infinite;\n",
              "  }\n",
              "\n",
              "  @keyframes spin {\n",
              "    0% {\n",
              "      border-color: transparent;\n",
              "      border-bottom-color: var(--fill-color);\n",
              "      border-left-color: var(--fill-color);\n",
              "    }\n",
              "    20% {\n",
              "      border-color: transparent;\n",
              "      border-left-color: var(--fill-color);\n",
              "      border-top-color: var(--fill-color);\n",
              "    }\n",
              "    30% {\n",
              "      border-color: transparent;\n",
              "      border-left-color: var(--fill-color);\n",
              "      border-top-color: var(--fill-color);\n",
              "      border-right-color: var(--fill-color);\n",
              "    }\n",
              "    40% {\n",
              "      border-color: transparent;\n",
              "      border-right-color: var(--fill-color);\n",
              "      border-top-color: var(--fill-color);\n",
              "    }\n",
              "    60% {\n",
              "      border-color: transparent;\n",
              "      border-right-color: var(--fill-color);\n",
              "    }\n",
              "    80% {\n",
              "      border-color: transparent;\n",
              "      border-right-color: var(--fill-color);\n",
              "      border-bottom-color: var(--fill-color);\n",
              "    }\n",
              "    90% {\n",
              "      border-color: transparent;\n",
              "      border-bottom-color: var(--fill-color);\n",
              "    }\n",
              "  }\n",
              "</style>\n",
              "\n",
              "      <script>\n",
              "        async function quickchart(key) {\n",
              "          const quickchartButtonEl =\n",
              "            document.querySelector('#' + key + ' button');\n",
              "          quickchartButtonEl.disabled = true;  // To prevent multiple clicks.\n",
              "          quickchartButtonEl.classList.add('colab-df-spinner');\n",
              "          try {\n",
              "            const charts = await google.colab.kernel.invokeFunction(\n",
              "                'suggestCharts', [key], {});\n",
              "          } catch (error) {\n",
              "            console.error('Error during call to suggestCharts:', error);\n",
              "          }\n",
              "          quickchartButtonEl.classList.remove('colab-df-spinner');\n",
              "          quickchartButtonEl.classList.add('colab-df-quickchart-complete');\n",
              "        }\n",
              "        (() => {\n",
              "          let quickchartButtonEl =\n",
              "            document.querySelector('#df-7d87072e-0687-4bb4-a68c-83c8216af892 button');\n",
              "          quickchartButtonEl.style.display =\n",
              "            google.colab.kernel.accessAllowed ? 'block' : 'none';\n",
              "        })();\n",
              "      </script>\n",
              "    </div>\n",
              "\n",
              "    </div>\n",
              "  </div>\n"
            ],
            "application/vnd.google.colaboratory.intrinsic+json": {
              "type": "dataframe",
              "summary": "{\n  \"name\": \"display(wrong_detailed[['ticker', 'description_info', 'sector_info', 'close', 'close_new', 'close_diff']])\",\n  \"rows\": 93,\n  \"fields\": [\n    {\n      \"column\": \"ticker\",\n      \"properties\": {\n        \"dtype\": \"string\",\n        \"num_unique_values\": 93,\n        \"samples\": [\n          \"EGX:GIHD\",\n          \"EGX:EEII\",\n          \"EGX:MBSC\"\n        ],\n        \"semantic_type\": \"\",\n        \"description\": \"\"\n      }\n    },\n    {\n      \"column\": \"description_info\",\n      \"properties\": {\n        \"dtype\": \"string\",\n        \"num_unique_values\": 93,\n        \"samples\": [\n          \"GHARBIA ISLAMIC HOUSING DEVELOPMENT\",\n          \"EL ARABIA ENGINEERING INDUSTRIES\",\n          \"MISR BENI SUEF CEMENT\"\n        ],\n        \"semantic_type\": \"\",\n        \"description\": \"\"\n      }\n    },\n    {\n      \"column\": \"sector_info\",\n      \"properties\": {\n        \"dtype\": \"category\",\n        \"num_unique_values\": 19,\n        \"samples\": [\n          \"Finance\",\n          \"Non-Energy Minerals\",\n          \"Electronic Technology\"\n        ],\n        \"semantic_type\": \"\",\n        \"description\": \"\"\n      }\n    },\n    {\n      \"column\": \"close\",\n      \"properties\": {\n        \"dtype\": \"number\",\n        \"std\": 22.01194500462486,\n        \"min\": 0.01,\n        \"max\": 118.0,\n        \"num_unique_values\": 92,\n        \"samples\": [\n          26.75,\n          2.09,\n          85.75\n        ],\n        \"semantic_type\": \"\",\n        \"description\": \"\"\n      }\n    },\n    {\n      \"column\": \"close_new\",\n      \"properties\": {\n        \"dtype\": \"number\",\n        \"std\": 23.415084975407698,\n        \"min\": 0.011,\n        \"max\": 137.0,\n        \"num_unique_values\": 89,\n        \"samples\": [\n          31.75,\n          3.0,\n          37.0\n        ],\n        \"semantic_type\": \"\",\n        \"description\": \"\"\n      }\n    },\n    {\n      \"column\": \"close_diff\",\n      \"properties\": {\n        \"dtype\": \"number\",\n        \"std\": 2.1330921734491706,\n        \"min\": 0.0,\n        \"max\": 19.0,\n        \"num_unique_values\": 72,\n        \"samples\": [\n          0.010000000000000009,\n          0.5399999999999991,\n          0.1399999999999999\n        ],\n        \"semantic_type\": \"\",\n        \"description\": \"\"\n      }\n    }\n  ]\n}"
            }
          },
          "metadata": {}
        }
      ]
    },
    {
      "cell_type": "code",
      "source": [
        "# Step 11: Sector-level error breakdown\n",
        "sector_error_counts = wrong_detailed['sector_info'].value_counts()\n",
        "print(\"❌ Incorrect Predictions by Sector:\")\n",
        "print(sector_error_counts)\n"
      ],
      "metadata": {
        "colab": {
          "base_uri": "https://localhost:8080/"
        },
        "id": "-4yRL_g41tvH",
        "outputId": "5a3edfef-0d7d-412c-8538-6d81b899e00e"
      },
      "execution_count": 148,
      "outputs": [
        {
          "output_type": "stream",
          "name": "stdout",
          "text": [
            "❌ Incorrect Predictions by Sector:\n",
            "sector_info\n",
            "Finance                   28\n",
            "Process Industries        17\n",
            "Industrial Services        6\n",
            "Non-Energy Minerals        5\n",
            "Consumer Non-Durables      4\n",
            "Health Technology          4\n",
            "Distribution Services      4\n",
            "Health Services            3\n",
            "Consumer Services          3\n",
            "Commercial Services        3\n",
            "Technology Services        3\n",
            "Consumer Durables          2\n",
            "Unknown                    2\n",
            "Transportation             2\n",
            "Utilities                  2\n",
            "Producer Manufacturing     2\n",
            "Retail Trade               1\n",
            "Communications             1\n",
            "Electronic Technology      1\n",
            "Name: count, dtype: int64\n"
          ]
        }
      ]
    },
    {
      "cell_type": "code",
      "source": [
        "# Step 12: Top 10 worst misses\n",
        "worst_wrong_predictions = wrong_detailed.sort_values(by='close_diff', ascending=False).head(10)\n",
        "\n",
        "display(worst_wrong_predictions[['ticker', 'description_info', 'sector_info', 'close', 'close_new', 'close_diff']])\n"
      ],
      "metadata": {
        "colab": {
          "base_uri": "https://localhost:8080/",
          "height": 1000
        },
        "id": "iwQJ1jb01we9",
        "outputId": "b86bca25-d0f9-4e18-baa2-4c6b93e91f5f"
      },
      "execution_count": 147,
      "outputs": [
        {
          "output_type": "display_data",
          "data": {
            "text/plain": [
              "      ticker                            description_info          sector_info  \\\n",
              "82  EGX:SCTS  SUES CANAL COMPANY FOR TECHNOLOGY SETTLING  Commercial Services   \n",
              "55  EGX:MBSC                       MISR BENI SUEF CEMENT  Non-Energy Minerals   \n",
              "78  EGX:ROTO                    ROWAD TOURISM (AL ROWAD)              Finance   \n",
              "46  EGX:IDRE     ISMAILIA DEVELOPMENT AND REAL ESTATE CO              Finance   \n",
              "45  EGX:HRHO                                 EFG HOLDING              Finance   \n",
              "81  EGX:SCFM         SOUTH CAIRO & GIZA MILLS & BAKERIES   Process Industries   \n",
              "86  EGX:SUGR                                 DELTA SUGAR   Process Industries   \n",
              "92  EGX:UTOP                                      UTOPIA              Finance   \n",
              "89  EGX:TMGH                               T M G HOLDING              Finance   \n",
              "30  EGX:ETEL                               TELECOM EGYPT       Communications   \n",
              "\n",
              "     close  close_new  close_diff  \n",
              "82  118.00     137.00       19.00  \n",
              "55   85.75      91.48        5.73  \n",
              "78   28.01      32.28        4.27  \n",
              "46   26.87      29.99        3.12  \n",
              "45   28.75      31.75        3.00  \n",
              "81   75.05      77.31        2.26  \n",
              "86   47.61      49.80        2.19  \n",
              "92   39.39      41.40        2.01  \n",
              "89   52.99      51.01        1.98  \n",
              "30   35.25      37.00        1.75  "
            ],
            "text/html": [
              "\n",
              "  <div id=\"df-fc9ba99f-b823-46b8-b17c-c439eddfab0f\" class=\"colab-df-container\">\n",
              "    <div>\n",
              "<style scoped>\n",
              "    .dataframe tbody tr th:only-of-type {\n",
              "        vertical-align: middle;\n",
              "    }\n",
              "\n",
              "    .dataframe tbody tr th {\n",
              "        vertical-align: top;\n",
              "    }\n",
              "\n",
              "    .dataframe thead th {\n",
              "        text-align: right;\n",
              "    }\n",
              "</style>\n",
              "<table border=\"1\" class=\"dataframe\">\n",
              "  <thead>\n",
              "    <tr style=\"text-align: right;\">\n",
              "      <th></th>\n",
              "      <th>ticker</th>\n",
              "      <th>description_info</th>\n",
              "      <th>sector_info</th>\n",
              "      <th>close</th>\n",
              "      <th>close_new</th>\n",
              "      <th>close_diff</th>\n",
              "    </tr>\n",
              "  </thead>\n",
              "  <tbody>\n",
              "    <tr>\n",
              "      <th>82</th>\n",
              "      <td>EGX:SCTS</td>\n",
              "      <td>SUES CANAL COMPANY FOR TECHNOLOGY SETTLING</td>\n",
              "      <td>Commercial Services</td>\n",
              "      <td>118.00</td>\n",
              "      <td>137.00</td>\n",
              "      <td>19.00</td>\n",
              "    </tr>\n",
              "    <tr>\n",
              "      <th>55</th>\n",
              "      <td>EGX:MBSC</td>\n",
              "      <td>MISR BENI SUEF CEMENT</td>\n",
              "      <td>Non-Energy Minerals</td>\n",
              "      <td>85.75</td>\n",
              "      <td>91.48</td>\n",
              "      <td>5.73</td>\n",
              "    </tr>\n",
              "    <tr>\n",
              "      <th>78</th>\n",
              "      <td>EGX:ROTO</td>\n",
              "      <td>ROWAD TOURISM (AL ROWAD)</td>\n",
              "      <td>Finance</td>\n",
              "      <td>28.01</td>\n",
              "      <td>32.28</td>\n",
              "      <td>4.27</td>\n",
              "    </tr>\n",
              "    <tr>\n",
              "      <th>46</th>\n",
              "      <td>EGX:IDRE</td>\n",
              "      <td>ISMAILIA DEVELOPMENT AND REAL ESTATE CO</td>\n",
              "      <td>Finance</td>\n",
              "      <td>26.87</td>\n",
              "      <td>29.99</td>\n",
              "      <td>3.12</td>\n",
              "    </tr>\n",
              "    <tr>\n",
              "      <th>45</th>\n",
              "      <td>EGX:HRHO</td>\n",
              "      <td>EFG HOLDING</td>\n",
              "      <td>Finance</td>\n",
              "      <td>28.75</td>\n",
              "      <td>31.75</td>\n",
              "      <td>3.00</td>\n",
              "    </tr>\n",
              "    <tr>\n",
              "      <th>81</th>\n",
              "      <td>EGX:SCFM</td>\n",
              "      <td>SOUTH CAIRO &amp; GIZA MILLS &amp; BAKERIES</td>\n",
              "      <td>Process Industries</td>\n",
              "      <td>75.05</td>\n",
              "      <td>77.31</td>\n",
              "      <td>2.26</td>\n",
              "    </tr>\n",
              "    <tr>\n",
              "      <th>86</th>\n",
              "      <td>EGX:SUGR</td>\n",
              "      <td>DELTA SUGAR</td>\n",
              "      <td>Process Industries</td>\n",
              "      <td>47.61</td>\n",
              "      <td>49.80</td>\n",
              "      <td>2.19</td>\n",
              "    </tr>\n",
              "    <tr>\n",
              "      <th>92</th>\n",
              "      <td>EGX:UTOP</td>\n",
              "      <td>UTOPIA</td>\n",
              "      <td>Finance</td>\n",
              "      <td>39.39</td>\n",
              "      <td>41.40</td>\n",
              "      <td>2.01</td>\n",
              "    </tr>\n",
              "    <tr>\n",
              "      <th>89</th>\n",
              "      <td>EGX:TMGH</td>\n",
              "      <td>T M G HOLDING</td>\n",
              "      <td>Finance</td>\n",
              "      <td>52.99</td>\n",
              "      <td>51.01</td>\n",
              "      <td>1.98</td>\n",
              "    </tr>\n",
              "    <tr>\n",
              "      <th>30</th>\n",
              "      <td>EGX:ETEL</td>\n",
              "      <td>TELECOM EGYPT</td>\n",
              "      <td>Communications</td>\n",
              "      <td>35.25</td>\n",
              "      <td>37.00</td>\n",
              "      <td>1.75</td>\n",
              "    </tr>\n",
              "  </tbody>\n",
              "</table>\n",
              "</div>\n",
              "    <div class=\"colab-df-buttons\">\n",
              "\n",
              "  <div class=\"colab-df-container\">\n",
              "    <button class=\"colab-df-convert\" onclick=\"convertToInteractive('df-fc9ba99f-b823-46b8-b17c-c439eddfab0f')\"\n",
              "            title=\"Convert this dataframe to an interactive table.\"\n",
              "            style=\"display:none;\">\n",
              "\n",
              "  <svg xmlns=\"http://www.w3.org/2000/svg\" height=\"24px\" viewBox=\"0 -960 960 960\">\n",
              "    <path d=\"M120-120v-720h720v720H120Zm60-500h600v-160H180v160Zm220 220h160v-160H400v160Zm0 220h160v-160H400v160ZM180-400h160v-160H180v160Zm440 0h160v-160H620v160ZM180-180h160v-160H180v160Zm440 0h160v-160H620v160Z\"/>\n",
              "  </svg>\n",
              "    </button>\n",
              "\n",
              "  <style>\n",
              "    .colab-df-container {\n",
              "      display:flex;\n",
              "      gap: 12px;\n",
              "    }\n",
              "\n",
              "    .colab-df-convert {\n",
              "      background-color: #E8F0FE;\n",
              "      border: none;\n",
              "      border-radius: 50%;\n",
              "      cursor: pointer;\n",
              "      display: none;\n",
              "      fill: #1967D2;\n",
              "      height: 32px;\n",
              "      padding: 0 0 0 0;\n",
              "      width: 32px;\n",
              "    }\n",
              "\n",
              "    .colab-df-convert:hover {\n",
              "      background-color: #E2EBFA;\n",
              "      box-shadow: 0px 1px 2px rgba(60, 64, 67, 0.3), 0px 1px 3px 1px rgba(60, 64, 67, 0.15);\n",
              "      fill: #174EA6;\n",
              "    }\n",
              "\n",
              "    .colab-df-buttons div {\n",
              "      margin-bottom: 4px;\n",
              "    }\n",
              "\n",
              "    [theme=dark] .colab-df-convert {\n",
              "      background-color: #3B4455;\n",
              "      fill: #D2E3FC;\n",
              "    }\n",
              "\n",
              "    [theme=dark] .colab-df-convert:hover {\n",
              "      background-color: #434B5C;\n",
              "      box-shadow: 0px 1px 3px 1px rgba(0, 0, 0, 0.15);\n",
              "      filter: drop-shadow(0px 1px 2px rgba(0, 0, 0, 0.3));\n",
              "      fill: #FFFFFF;\n",
              "    }\n",
              "  </style>\n",
              "\n",
              "    <script>\n",
              "      const buttonEl =\n",
              "        document.querySelector('#df-fc9ba99f-b823-46b8-b17c-c439eddfab0f button.colab-df-convert');\n",
              "      buttonEl.style.display =\n",
              "        google.colab.kernel.accessAllowed ? 'block' : 'none';\n",
              "\n",
              "      async function convertToInteractive(key) {\n",
              "        const element = document.querySelector('#df-fc9ba99f-b823-46b8-b17c-c439eddfab0f');\n",
              "        const dataTable =\n",
              "          await google.colab.kernel.invokeFunction('convertToInteractive',\n",
              "                                                    [key], {});\n",
              "        if (!dataTable) return;\n",
              "\n",
              "        const docLinkHtml = 'Like what you see? Visit the ' +\n",
              "          '<a target=\"_blank\" href=https://colab.research.google.com/notebooks/data_table.ipynb>data table notebook</a>'\n",
              "          + ' to learn more about interactive tables.';\n",
              "        element.innerHTML = '';\n",
              "        dataTable['output_type'] = 'display_data';\n",
              "        await google.colab.output.renderOutput(dataTable, element);\n",
              "        const docLink = document.createElement('div');\n",
              "        docLink.innerHTML = docLinkHtml;\n",
              "        element.appendChild(docLink);\n",
              "      }\n",
              "    </script>\n",
              "  </div>\n",
              "\n",
              "\n",
              "    <div id=\"df-f637ef11-8607-4cd0-959c-616a77f83124\">\n",
              "      <button class=\"colab-df-quickchart\" onclick=\"quickchart('df-f637ef11-8607-4cd0-959c-616a77f83124')\"\n",
              "                title=\"Suggest charts\"\n",
              "                style=\"display:none;\">\n",
              "\n",
              "<svg xmlns=\"http://www.w3.org/2000/svg\" height=\"24px\"viewBox=\"0 0 24 24\"\n",
              "     width=\"24px\">\n",
              "    <g>\n",
              "        <path d=\"M19 3H5c-1.1 0-2 .9-2 2v14c0 1.1.9 2 2 2h14c1.1 0 2-.9 2-2V5c0-1.1-.9-2-2-2zM9 17H7v-7h2v7zm4 0h-2V7h2v10zm4 0h-2v-4h2v4z\"/>\n",
              "    </g>\n",
              "</svg>\n",
              "      </button>\n",
              "\n",
              "<style>\n",
              "  .colab-df-quickchart {\n",
              "      --bg-color: #E8F0FE;\n",
              "      --fill-color: #1967D2;\n",
              "      --hover-bg-color: #E2EBFA;\n",
              "      --hover-fill-color: #174EA6;\n",
              "      --disabled-fill-color: #AAA;\n",
              "      --disabled-bg-color: #DDD;\n",
              "  }\n",
              "\n",
              "  [theme=dark] .colab-df-quickchart {\n",
              "      --bg-color: #3B4455;\n",
              "      --fill-color: #D2E3FC;\n",
              "      --hover-bg-color: #434B5C;\n",
              "      --hover-fill-color: #FFFFFF;\n",
              "      --disabled-bg-color: #3B4455;\n",
              "      --disabled-fill-color: #666;\n",
              "  }\n",
              "\n",
              "  .colab-df-quickchart {\n",
              "    background-color: var(--bg-color);\n",
              "    border: none;\n",
              "    border-radius: 50%;\n",
              "    cursor: pointer;\n",
              "    display: none;\n",
              "    fill: var(--fill-color);\n",
              "    height: 32px;\n",
              "    padding: 0;\n",
              "    width: 32px;\n",
              "  }\n",
              "\n",
              "  .colab-df-quickchart:hover {\n",
              "    background-color: var(--hover-bg-color);\n",
              "    box-shadow: 0 1px 2px rgba(60, 64, 67, 0.3), 0 1px 3px 1px rgba(60, 64, 67, 0.15);\n",
              "    fill: var(--button-hover-fill-color);\n",
              "  }\n",
              "\n",
              "  .colab-df-quickchart-complete:disabled,\n",
              "  .colab-df-quickchart-complete:disabled:hover {\n",
              "    background-color: var(--disabled-bg-color);\n",
              "    fill: var(--disabled-fill-color);\n",
              "    box-shadow: none;\n",
              "  }\n",
              "\n",
              "  .colab-df-spinner {\n",
              "    border: 2px solid var(--fill-color);\n",
              "    border-color: transparent;\n",
              "    border-bottom-color: var(--fill-color);\n",
              "    animation:\n",
              "      spin 1s steps(1) infinite;\n",
              "  }\n",
              "\n",
              "  @keyframes spin {\n",
              "    0% {\n",
              "      border-color: transparent;\n",
              "      border-bottom-color: var(--fill-color);\n",
              "      border-left-color: var(--fill-color);\n",
              "    }\n",
              "    20% {\n",
              "      border-color: transparent;\n",
              "      border-left-color: var(--fill-color);\n",
              "      border-top-color: var(--fill-color);\n",
              "    }\n",
              "    30% {\n",
              "      border-color: transparent;\n",
              "      border-left-color: var(--fill-color);\n",
              "      border-top-color: var(--fill-color);\n",
              "      border-right-color: var(--fill-color);\n",
              "    }\n",
              "    40% {\n",
              "      border-color: transparent;\n",
              "      border-right-color: var(--fill-color);\n",
              "      border-top-color: var(--fill-color);\n",
              "    }\n",
              "    60% {\n",
              "      border-color: transparent;\n",
              "      border-right-color: var(--fill-color);\n",
              "    }\n",
              "    80% {\n",
              "      border-color: transparent;\n",
              "      border-right-color: var(--fill-color);\n",
              "      border-bottom-color: var(--fill-color);\n",
              "    }\n",
              "    90% {\n",
              "      border-color: transparent;\n",
              "      border-bottom-color: var(--fill-color);\n",
              "    }\n",
              "  }\n",
              "</style>\n",
              "\n",
              "      <script>\n",
              "        async function quickchart(key) {\n",
              "          const quickchartButtonEl =\n",
              "            document.querySelector('#' + key + ' button');\n",
              "          quickchartButtonEl.disabled = true;  // To prevent multiple clicks.\n",
              "          quickchartButtonEl.classList.add('colab-df-spinner');\n",
              "          try {\n",
              "            const charts = await google.colab.kernel.invokeFunction(\n",
              "                'suggestCharts', [key], {});\n",
              "          } catch (error) {\n",
              "            console.error('Error during call to suggestCharts:', error);\n",
              "          }\n",
              "          quickchartButtonEl.classList.remove('colab-df-spinner');\n",
              "          quickchartButtonEl.classList.add('colab-df-quickchart-complete');\n",
              "        }\n",
              "        (() => {\n",
              "          let quickchartButtonEl =\n",
              "            document.querySelector('#df-f637ef11-8607-4cd0-959c-616a77f83124 button');\n",
              "          quickchartButtonEl.style.display =\n",
              "            google.colab.kernel.accessAllowed ? 'block' : 'none';\n",
              "        })();\n",
              "      </script>\n",
              "    </div>\n",
              "\n",
              "    </div>\n",
              "  </div>\n"
            ],
            "application/vnd.google.colaboratory.intrinsic+json": {
              "type": "dataframe",
              "summary": "{\n  \"name\": \"display(worst_wrong_predictions[['ticker', 'description_info', 'sector_info', 'close', 'close_new', 'close_diff']])\",\n  \"rows\": 10,\n  \"fields\": [\n    {\n      \"column\": \"ticker\",\n      \"properties\": {\n        \"dtype\": \"string\",\n        \"num_unique_values\": 10,\n        \"samples\": [\n          \"EGX:TMGH\",\n          \"EGX:MBSC\",\n          \"EGX:SCFM\"\n        ],\n        \"semantic_type\": \"\",\n        \"description\": \"\"\n      }\n    },\n    {\n      \"column\": \"description_info\",\n      \"properties\": {\n        \"dtype\": \"string\",\n        \"num_unique_values\": 10,\n        \"samples\": [\n          \"T M G HOLDING\",\n          \"MISR BENI SUEF CEMENT\",\n          \"SOUTH CAIRO & GIZA MILLS & BAKERIES\"\n        ],\n        \"semantic_type\": \"\",\n        \"description\": \"\"\n      }\n    },\n    {\n      \"column\": \"sector_info\",\n      \"properties\": {\n        \"dtype\": \"string\",\n        \"num_unique_values\": 5,\n        \"samples\": [\n          \"Non-Energy Minerals\",\n          \"Communications\",\n          \"Finance\"\n        ],\n        \"semantic_type\": \"\",\n        \"description\": \"\"\n      }\n    },\n    {\n      \"column\": \"close\",\n      \"properties\": {\n        \"dtype\": \"number\",\n        \"std\": 30.189343980947978,\n        \"min\": 26.87,\n        \"max\": 118.0,\n        \"num_unique_values\": 10,\n        \"samples\": [\n          52.99,\n          85.75,\n          75.05\n        ],\n        \"semantic_type\": \"\",\n        \"description\": \"\"\n      }\n    },\n    {\n      \"column\": \"close_new\",\n      \"properties\": {\n        \"dtype\": \"number\",\n        \"std\": 34.48428234556853,\n        \"min\": 29.99,\n        \"max\": 137.0,\n        \"num_unique_values\": 10,\n        \"samples\": [\n          51.01,\n          91.48,\n          77.31\n        ],\n        \"semantic_type\": \"\",\n        \"description\": \"\"\n      }\n    },\n    {\n      \"column\": \"close_diff\",\n      \"properties\": {\n        \"dtype\": \"number\",\n        \"std\": 5.232667579734069,\n        \"min\": 1.75,\n        \"max\": 19.0,\n        \"num_unique_values\": 10,\n        \"samples\": [\n          1.980000000000004,\n          5.730000000000004,\n          2.260000000000005\n        ],\n        \"semantic_type\": \"\",\n        \"description\": \"\"\n      }\n    }\n  ]\n}"
            }
          },
          "metadata": {}
        }
      ]
    },
    {
      "cell_type": "markdown",
      "source": [
        "# News"
      ],
      "metadata": {
        "id": "EkrrEMm718MJ"
      }
    },
    {
      "cell_type": "code",
      "source": [
        "# Extract worst prediction info directly from the actual sorted DataFrame\n",
        "worst_ticker = worst_wrong_predictions.iloc[0]['ticker']\n",
        "worst_description = worst_wrong_predictions.iloc[0].get('description_info', 'Unknown')\n",
        "worst_sector = worst_wrong_predictions.iloc[0].get('sector_info', 'Unknown')\n",
        "\n",
        "worst_summary = f\"🔍 Worst Prediction — Ticker: {worst_ticker}, Name: {worst_description}, Sector: {worst_sector}\"\n",
        "print(worst_summary)\n"
      ],
      "metadata": {
        "colab": {
          "base_uri": "https://localhost:8080/"
        },
        "id": "915qHSJ-AtQg",
        "outputId": "818b829b-3bf4-4eec-f0b9-fe45dacd6d76"
      },
      "execution_count": 177,
      "outputs": [
        {
          "output_type": "stream",
          "name": "stdout",
          "text": [
            "🔍 Worst Prediction — Ticker: ABCD, Name: ABC Corporation, Sector: Technology\n"
          ]
        }
      ]
    },
    {
      "cell_type": "code",
      "source": [
        "googlenews = GoogleNews(lang='ar', region='EGYPT', period='7d')\n",
        "googlenews.search(f\"{worst_ticker} مصر\")\n",
        "\n",
        "# Filter results by Egyptian domains\n",
        "egypt_domains = ['.eg', 'youm7.com', 'almasryalyoum.com', 'dostor.org', 'masrawy.com']\n",
        "\n",
        "egyptian_articles = [\n",
        "    article for article in googlenews.results()\n",
        "    if any(domain in article['link'] for domain in egypt_domains)\n",
        "]\n",
        "\n",
        "# Show top results\n",
        "if egyptian_articles:\n",
        "    for article in egyptian_articles[:5]:\n",
        "        print(f\"🗞️ {article['title']}\")\n",
        "        print(f\"📅 {article['date']} — {article['media']}\")\n",
        "        print(f\"🔗 {article['link']}\")\n",
        "        print('-' * 50)\n",
        "else:\n",
        "    print(\"❌ No Egypt-only news articles found.\")\n"
      ],
      "metadata": {
        "colab": {
          "base_uri": "https://localhost:8080/"
        },
        "id": "2YPeSgr8AJT-",
        "outputId": "1b555d77-f31f-4106-e4e8-f6584dbb7241"
      },
      "execution_count": 183,
      "outputs": [
        {
          "output_type": "stream",
          "name": "stdout",
          "text": [
            "🗞️ بنك ABC مصر يطلق تطبيقه الجديد للهاتف المحمول لتقديم تجربة مصرفية متميزة لعملائه\n",
            "📅 قبل أسبوعين (2) — بوابة الأهرام\n",
            "🔗 https://gate.ahram.org.eg/News/5166599.aspx&ved=2ahUKEwj-7viks8CNAxWaHzQIHWJ5MboQxfQBegQICRAC&usg=AOvVaw2GWkkFgfKmogjsP3YwlB7S\n",
            "--------------------------------------------------\n"
          ]
        }
      ]
    }
  ]
}